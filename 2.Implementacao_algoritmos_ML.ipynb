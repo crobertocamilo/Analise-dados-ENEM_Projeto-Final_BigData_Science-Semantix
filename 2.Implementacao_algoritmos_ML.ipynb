{
 "cells": [
  {
   "cell_type": "markdown",
   "metadata": {
    "execution": {
     "iopub.execute_input": "2022-12-11T16:03:24.245855Z",
     "iopub.status.busy": "2022-12-11T16:03:24.245162Z",
     "iopub.status.idle": "2022-12-11T16:03:24.270375Z",
     "shell.execute_reply": "2022-12-11T16:03:24.269547Z",
     "shell.execute_reply.started": "2022-12-11T16:03:24.245770Z"
    }
   },
   "source": [
    "# <center>Projeto Final - Big Data Science - Semantix (Dez.2022)</center>\n",
    "# <b>Análise da base de dados do ENEM 2021</b>\n",
    "## <p style=\"color:blue\">O modelo de ML prevê a nota final do aluno a partir de informações pessoais e das respostas ao questionário socio-econômico</p> \n",
    "### Calcula uma estimativa de qual será a nota, antes do aluno fazer qualquer prova, somente pelas informações respondidas no processo de inscrição.    \n",
    "###  "
   ]
  },
  {
   "cell_type": "markdown",
   "metadata": {},
   "source": [
    "## Implementação dos algoritmos de *Machine Learning*"
   ]
  },
  {
   "cell_type": "code",
   "execution_count": 2,
   "metadata": {
    "execution": {
     "iopub.execute_input": "2022-12-11T22:05:44.170189Z",
     "iopub.status.busy": "2022-12-11T22:05:44.169656Z",
     "iopub.status.idle": "2022-12-11T22:05:44.177709Z",
     "shell.execute_reply": "2022-12-11T22:05:44.176133Z",
     "shell.execute_reply.started": "2022-12-11T22:05:44.170152Z"
    }
   },
   "outputs": [],
   "source": [
    "import pandas as pd\n",
    "import numpy as np"
   ]
  },
  {
   "cell_type": "code",
   "execution_count": 6,
   "metadata": {
    "execution": {
     "iopub.execute_input": "2022-12-11T22:19:18.648261Z",
     "iopub.status.busy": "2022-12-11T22:19:18.647129Z",
     "iopub.status.idle": "2022-12-11T22:19:24.085078Z",
     "shell.execute_reply": "2022-12-11T22:19:24.083676Z",
     "shell.execute_reply.started": "2022-12-11T22:19:18.648210Z"
    }
   },
   "outputs": [],
   "source": [
    "# A base de dados é um arquivo de 2.238.106 registros de alunos que prestaram a prova do ENEM2021,\n",
    "#    contendo respostas categorizadas à 33 perguntas pessoais preenchidas na inscrição para a prova.\n",
    "# São 8 colunas com informações pessoais (faixa etária, sexo, estado civil, etc.)\n",
    "#    e mais as respostas às 25 perguntas de um questionário socio-econômico.\n",
    "# A última coluna, NOTA_FINAL, apresenta a média das notas obtidas por cada aluno nas quatro provas mais redação.\n",
    "\n",
    "# Para detalhes sobre a análise e tratamento da base de dados original e a definição dos campos a serem\n",
    "#    serem utilizados, veja o arquivo '1.Analise_tratamento_testes_dos_dados.ipynb'\n",
    "#    disponível em: https://github.com/crobertocamilo/Analise-dados-ENEM_Projeto-Final_BigData_Science-Semantix\n",
    "\n",
    "# Fonte original do dataset: os dados aqui utilizados estão publicamente disponíveis em:\n",
    "#    https://www.gov.br/inep/pt-br/acesso-a-informacao/dados-abertos/microdados/enem\n",
    "\n",
    "arquivo = '/kaggle/input/dados-enem2021-filtrados/Dados_ENEM2021_filtrados_novo.csv'\n",
    "dados3 = pd.read_csv(arquivo, sep=';')"
   ]
  },
  {
   "cell_type": "code",
   "execution_count": 8,
   "metadata": {
    "execution": {
     "iopub.execute_input": "2022-12-11T22:23:12.670170Z",
     "iopub.status.busy": "2022-12-11T22:23:12.669281Z",
     "iopub.status.idle": "2022-12-11T22:23:13.191505Z",
     "shell.execute_reply": "2022-12-11T22:23:13.190158Z",
     "shell.execute_reply.started": "2022-12-11T22:23:12.670128Z"
    }
   },
   "outputs": [
    {
     "data": {
      "text/html": [
       "<div>\n",
       "<style scoped>\n",
       "    .dataframe tbody tr th:only-of-type {\n",
       "        vertical-align: middle;\n",
       "    }\n",
       "\n",
       "    .dataframe tbody tr th {\n",
       "        vertical-align: top;\n",
       "    }\n",
       "\n",
       "    .dataframe thead th {\n",
       "        text-align: right;\n",
       "    }\n",
       "</style>\n",
       "<table border=\"1\" class=\"dataframe\">\n",
       "  <thead>\n",
       "    <tr style=\"text-align: right;\">\n",
       "      <th></th>\n",
       "      <th>TP_FAIXA_ETARIA</th>\n",
       "      <th>TP_SEXO</th>\n",
       "      <th>TP_ESTADO_CIVIL</th>\n",
       "      <th>TP_COR_RACA</th>\n",
       "      <th>TP_ST_CONCLUSAO</th>\n",
       "      <th>IN_TREINEIRO</th>\n",
       "      <th>CO_UF_PROVA</th>\n",
       "      <th>TP_LINGUA</th>\n",
       "      <th>Q001</th>\n",
       "      <th>Q002</th>\n",
       "      <th>...</th>\n",
       "      <th>Q017</th>\n",
       "      <th>Q018</th>\n",
       "      <th>Q019</th>\n",
       "      <th>Q020</th>\n",
       "      <th>Q021</th>\n",
       "      <th>Q022</th>\n",
       "      <th>Q023</th>\n",
       "      <th>Q024</th>\n",
       "      <th>Q025</th>\n",
       "      <th>NOTA_FINAL</th>\n",
       "    </tr>\n",
       "  </thead>\n",
       "  <tbody>\n",
       "    <tr>\n",
       "      <th>0</th>\n",
       "      <td>12</td>\n",
       "      <td>13</td>\n",
       "      <td>1</td>\n",
       "      <td>1</td>\n",
       "      <td>1</td>\n",
       "      <td>0</td>\n",
       "      <td>27</td>\n",
       "      <td>1</td>\n",
       "      <td>2</td>\n",
       "      <td>2</td>\n",
       "      <td>...</td>\n",
       "      <td>1</td>\n",
       "      <td>1</td>\n",
       "      <td>2</td>\n",
       "      <td>1</td>\n",
       "      <td>1</td>\n",
       "      <td>3</td>\n",
       "      <td>1</td>\n",
       "      <td>1</td>\n",
       "      <td>1</td>\n",
       "      <td>515.50</td>\n",
       "    </tr>\n",
       "    <tr>\n",
       "      <th>1</th>\n",
       "      <td>3</td>\n",
       "      <td>13</td>\n",
       "      <td>1</td>\n",
       "      <td>3</td>\n",
       "      <td>2</td>\n",
       "      <td>0</td>\n",
       "      <td>23</td>\n",
       "      <td>0</td>\n",
       "      <td>2</td>\n",
       "      <td>2</td>\n",
       "      <td>...</td>\n",
       "      <td>1</td>\n",
       "      <td>1</td>\n",
       "      <td>2</td>\n",
       "      <td>1</td>\n",
       "      <td>1</td>\n",
       "      <td>2</td>\n",
       "      <td>1</td>\n",
       "      <td>2</td>\n",
       "      <td>2</td>\n",
       "      <td>667.60</td>\n",
       "    </tr>\n",
       "    <tr>\n",
       "      <th>2</th>\n",
       "      <td>2</td>\n",
       "      <td>6</td>\n",
       "      <td>1</td>\n",
       "      <td>3</td>\n",
       "      <td>2</td>\n",
       "      <td>0</td>\n",
       "      <td>23</td>\n",
       "      <td>1</td>\n",
       "      <td>4</td>\n",
       "      <td>5</td>\n",
       "      <td>...</td>\n",
       "      <td>1</td>\n",
       "      <td>1</td>\n",
       "      <td>2</td>\n",
       "      <td>1</td>\n",
       "      <td>2</td>\n",
       "      <td>5</td>\n",
       "      <td>1</td>\n",
       "      <td>2</td>\n",
       "      <td>2</td>\n",
       "      <td>570.06</td>\n",
       "    </tr>\n",
       "    <tr>\n",
       "      <th>3</th>\n",
       "      <td>8</td>\n",
       "      <td>6</td>\n",
       "      <td>1</td>\n",
       "      <td>3</td>\n",
       "      <td>2</td>\n",
       "      <td>0</td>\n",
       "      <td>31</td>\n",
       "      <td>0</td>\n",
       "      <td>2</td>\n",
       "      <td>2</td>\n",
       "      <td>...</td>\n",
       "      <td>1</td>\n",
       "      <td>1</td>\n",
       "      <td>2</td>\n",
       "      <td>1</td>\n",
       "      <td>1</td>\n",
       "      <td>2</td>\n",
       "      <td>1</td>\n",
       "      <td>1</td>\n",
       "      <td>2</td>\n",
       "      <td>485.60</td>\n",
       "    </tr>\n",
       "    <tr>\n",
       "      <th>4</th>\n",
       "      <td>4</td>\n",
       "      <td>6</td>\n",
       "      <td>1</td>\n",
       "      <td>3</td>\n",
       "      <td>2</td>\n",
       "      <td>0</td>\n",
       "      <td>29</td>\n",
       "      <td>1</td>\n",
       "      <td>4</td>\n",
       "      <td>4</td>\n",
       "      <td>...</td>\n",
       "      <td>1</td>\n",
       "      <td>2</td>\n",
       "      <td>3</td>\n",
       "      <td>2</td>\n",
       "      <td>1</td>\n",
       "      <td>3</td>\n",
       "      <td>1</td>\n",
       "      <td>1</td>\n",
       "      <td>2</td>\n",
       "      <td>466.94</td>\n",
       "    </tr>\n",
       "    <tr>\n",
       "      <th>...</th>\n",
       "      <td>...</td>\n",
       "      <td>...</td>\n",
       "      <td>...</td>\n",
       "      <td>...</td>\n",
       "      <td>...</td>\n",
       "      <td>...</td>\n",
       "      <td>...</td>\n",
       "      <td>...</td>\n",
       "      <td>...</td>\n",
       "      <td>...</td>\n",
       "      <td>...</td>\n",
       "      <td>...</td>\n",
       "      <td>...</td>\n",
       "      <td>...</td>\n",
       "      <td>...</td>\n",
       "      <td>...</td>\n",
       "      <td>...</td>\n",
       "      <td>...</td>\n",
       "      <td>...</td>\n",
       "      <td>...</td>\n",
       "      <td>...</td>\n",
       "    </tr>\n",
       "    <tr>\n",
       "      <th>2238101</th>\n",
       "      <td>15</td>\n",
       "      <td>6</td>\n",
       "      <td>1</td>\n",
       "      <td>1</td>\n",
       "      <td>4</td>\n",
       "      <td>0</td>\n",
       "      <td>35</td>\n",
       "      <td>1</td>\n",
       "      <td>2</td>\n",
       "      <td>2</td>\n",
       "      <td>...</td>\n",
       "      <td>1</td>\n",
       "      <td>1</td>\n",
       "      <td>2</td>\n",
       "      <td>1</td>\n",
       "      <td>1</td>\n",
       "      <td>4</td>\n",
       "      <td>1</td>\n",
       "      <td>2</td>\n",
       "      <td>2</td>\n",
       "      <td>403.58</td>\n",
       "    </tr>\n",
       "    <tr>\n",
       "      <th>2238102</th>\n",
       "      <td>14</td>\n",
       "      <td>13</td>\n",
       "      <td>2</td>\n",
       "      <td>3</td>\n",
       "      <td>1</td>\n",
       "      <td>0</td>\n",
       "      <td>31</td>\n",
       "      <td>1</td>\n",
       "      <td>8</td>\n",
       "      <td>3</td>\n",
       "      <td>...</td>\n",
       "      <td>1</td>\n",
       "      <td>1</td>\n",
       "      <td>2</td>\n",
       "      <td>2</td>\n",
       "      <td>1</td>\n",
       "      <td>3</td>\n",
       "      <td>2</td>\n",
       "      <td>2</td>\n",
       "      <td>2</td>\n",
       "      <td>444.14</td>\n",
       "    </tr>\n",
       "    <tr>\n",
       "      <th>2238103</th>\n",
       "      <td>10</td>\n",
       "      <td>13</td>\n",
       "      <td>1</td>\n",
       "      <td>1</td>\n",
       "      <td>1</td>\n",
       "      <td>0</td>\n",
       "      <td>33</td>\n",
       "      <td>0</td>\n",
       "      <td>5</td>\n",
       "      <td>5</td>\n",
       "      <td>...</td>\n",
       "      <td>1</td>\n",
       "      <td>2</td>\n",
       "      <td>2</td>\n",
       "      <td>1</td>\n",
       "      <td>2</td>\n",
       "      <td>4</td>\n",
       "      <td>2</td>\n",
       "      <td>3</td>\n",
       "      <td>2</td>\n",
       "      <td>626.30</td>\n",
       "    </tr>\n",
       "    <tr>\n",
       "      <th>2238104</th>\n",
       "      <td>5</td>\n",
       "      <td>6</td>\n",
       "      <td>1</td>\n",
       "      <td>3</td>\n",
       "      <td>1</td>\n",
       "      <td>0</td>\n",
       "      <td>13</td>\n",
       "      <td>1</td>\n",
       "      <td>3</td>\n",
       "      <td>8</td>\n",
       "      <td>...</td>\n",
       "      <td>1</td>\n",
       "      <td>1</td>\n",
       "      <td>2</td>\n",
       "      <td>1</td>\n",
       "      <td>1</td>\n",
       "      <td>3</td>\n",
       "      <td>1</td>\n",
       "      <td>1</td>\n",
       "      <td>2</td>\n",
       "      <td>438.88</td>\n",
       "    </tr>\n",
       "    <tr>\n",
       "      <th>2238105</th>\n",
       "      <td>7</td>\n",
       "      <td>6</td>\n",
       "      <td>1</td>\n",
       "      <td>1</td>\n",
       "      <td>1</td>\n",
       "      <td>0</td>\n",
       "      <td>31</td>\n",
       "      <td>0</td>\n",
       "      <td>5</td>\n",
       "      <td>4</td>\n",
       "      <td>...</td>\n",
       "      <td>1</td>\n",
       "      <td>2</td>\n",
       "      <td>2</td>\n",
       "      <td>1</td>\n",
       "      <td>2</td>\n",
       "      <td>5</td>\n",
       "      <td>1</td>\n",
       "      <td>3</td>\n",
       "      <td>2</td>\n",
       "      <td>625.36</td>\n",
       "    </tr>\n",
       "  </tbody>\n",
       "</table>\n",
       "<p>2238106 rows × 34 columns</p>\n",
       "</div>"
      ],
      "text/plain": [
       "         TP_FAIXA_ETARIA  TP_SEXO  TP_ESTADO_CIVIL  TP_COR_RACA  \\\n",
       "0                     12       13                1            1   \n",
       "1                      3       13                1            3   \n",
       "2                      2        6                1            3   \n",
       "3                      8        6                1            3   \n",
       "4                      4        6                1            3   \n",
       "...                  ...      ...              ...          ...   \n",
       "2238101               15        6                1            1   \n",
       "2238102               14       13                2            3   \n",
       "2238103               10       13                1            1   \n",
       "2238104                5        6                1            3   \n",
       "2238105                7        6                1            1   \n",
       "\n",
       "         TP_ST_CONCLUSAO  IN_TREINEIRO  CO_UF_PROVA  TP_LINGUA  Q001  Q002  \\\n",
       "0                      1             0           27          1     2     2   \n",
       "1                      2             0           23          0     2     2   \n",
       "2                      2             0           23          1     4     5   \n",
       "3                      2             0           31          0     2     2   \n",
       "4                      2             0           29          1     4     4   \n",
       "...                  ...           ...          ...        ...   ...   ...   \n",
       "2238101                4             0           35          1     2     2   \n",
       "2238102                1             0           31          1     8     3   \n",
       "2238103                1             0           33          0     5     5   \n",
       "2238104                1             0           13          1     3     8   \n",
       "2238105                1             0           31          0     5     4   \n",
       "\n",
       "         ...  Q017  Q018  Q019  Q020  Q021  Q022  Q023  Q024  Q025  NOTA_FINAL  \n",
       "0        ...     1     1     2     1     1     3     1     1     1      515.50  \n",
       "1        ...     1     1     2     1     1     2     1     2     2      667.60  \n",
       "2        ...     1     1     2     1     2     5     1     2     2      570.06  \n",
       "3        ...     1     1     2     1     1     2     1     1     2      485.60  \n",
       "4        ...     1     2     3     2     1     3     1     1     2      466.94  \n",
       "...      ...   ...   ...   ...   ...   ...   ...   ...   ...   ...         ...  \n",
       "2238101  ...     1     1     2     1     1     4     1     2     2      403.58  \n",
       "2238102  ...     1     1     2     2     1     3     2     2     2      444.14  \n",
       "2238103  ...     1     2     2     1     2     4     2     3     2      626.30  \n",
       "2238104  ...     1     1     2     1     1     3     1     1     2      438.88  \n",
       "2238105  ...     1     2     2     1     2     5     1     3     2      625.36  \n",
       "\n",
       "[2238106 rows x 34 columns]"
      ]
     },
     "execution_count": 8,
     "metadata": {},
     "output_type": "execute_result"
    }
   ],
   "source": [
    "# Visualização dos dados. Cada linha contém as informações de um aluno que prestou o ENEM2021.\n",
    "# Para compreender os rótulos das respostas, veja o arquivo '1.Analise_tratamento_testes_dos_dados.ipynb'\n",
    "dados3"
   ]
  },
  {
   "cell_type": "code",
   "execution_count": 9,
   "metadata": {
    "execution": {
     "iopub.execute_input": "2022-12-11T22:25:11.846275Z",
     "iopub.status.busy": "2022-12-11T22:25:11.845828Z",
     "iopub.status.idle": "2022-12-11T22:25:11.853784Z",
     "shell.execute_reply": "2022-12-11T22:25:11.852424Z",
     "shell.execute_reply.started": "2022-12-11T22:25:11.846242Z"
    }
   },
   "outputs": [
    {
     "name": "stdout",
     "output_type": "stream",
     "text": [
      "A base de dados foi importada com sucesso!\n"
     ]
    }
   ],
   "source": [
    "#Certificar-se de que todo o arquivo foi baixado/envidado\n",
    "#Deve conter 2238106 linhas por 34 colunas\n",
    "if dados3.shape == (2238106, 34):\n",
    "    print(\"A base de dados foi importada com sucesso!\")\n",
    "else:\n",
    "    print(\"Houve algum erro no carramento ou download da base de dados! Por favor, tente novamente.\")"
   ]
  },
  {
   "cell_type": "code",
   "execution_count": 10,
   "metadata": {
    "execution": {
     "iopub.execute_input": "2022-12-11T22:28:00.044982Z",
     "iopub.status.busy": "2022-12-11T22:28:00.044403Z",
     "iopub.status.idle": "2022-12-11T22:28:00.492859Z",
     "shell.execute_reply": "2022-12-11T22:28:00.491519Z",
     "shell.execute_reply.started": "2022-12-11T22:28:00.044940Z"
    }
   },
   "outputs": [],
   "source": [
    "# As 33 colunas iniciais são as informações que serão utilizadas para o treino e predição do modelo (features).\n",
    "# A coluna final (a nota final do aluno) é a variável a ser predita.\n",
    "X = dados3.loc[:, dados3.columns != 'NOTA_FINAL']\n",
    "y = dados3['NOTA_FINAL']"
   ]
  },
  {
   "cell_type": "code",
   "execution_count": 14,
   "metadata": {
    "execution": {
     "iopub.execute_input": "2022-12-11T22:31:36.473957Z",
     "iopub.status.busy": "2022-12-11T22:31:36.473008Z",
     "iopub.status.idle": "2022-12-11T22:31:38.251315Z",
     "shell.execute_reply": "2022-12-11T22:31:38.249729Z",
     "shell.execute_reply.started": "2022-12-11T22:31:36.473914Z"
    }
   },
   "outputs": [
    {
     "data": {
      "text/plain": [
       "(1790484, 33)"
      ]
     },
     "execution_count": 14,
     "metadata": {},
     "output_type": "execute_result"
    }
   ],
   "source": [
    "# O algoritmo irá treinar com 80% dos registros (1.790.484), e testar os resultados com os 20% restantes (447.622).\n",
    "from sklearn.model_selection import train_test_split\n",
    "\n",
    "treino_X, val_X, treino_y, val_y = train_test_split(X,y,random_state=2,train_size=0.8)\n",
    "treino_X.shape"
   ]
  },
  {
   "cell_type": "code",
   "execution_count": 15,
   "metadata": {
    "execution": {
     "iopub.execute_input": "2022-12-11T22:31:48.014654Z",
     "iopub.status.busy": "2022-12-11T22:31:48.014083Z",
     "iopub.status.idle": "2022-12-11T22:31:48.022084Z",
     "shell.execute_reply": "2022-12-11T22:31:48.021256Z",
     "shell.execute_reply.started": "2022-12-11T22:31:48.014616Z"
    }
   },
   "outputs": [
    {
     "data": {
      "text/plain": [
       "True"
      ]
     },
     "execution_count": 15,
     "metadata": {},
     "output_type": "execute_result"
    }
   ],
   "source": [
    "treino_X.shape[0]+len(val_X) == dados3.shape[0]"
   ]
  },
  {
   "cell_type": "markdown",
   "metadata": {},
   "source": [
    "## Predição da nota final do aluno utilizando o algoritmo <b>Decision Tree</b>"
   ]
  },
  {
   "cell_type": "code",
   "execution_count": 16,
   "metadata": {
    "execution": {
     "iopub.execute_input": "2022-12-11T22:52:53.458273Z",
     "iopub.status.busy": "2022-12-11T22:52:53.457700Z",
     "iopub.status.idle": "2022-12-11T22:52:55.280280Z",
     "shell.execute_reply": "2022-12-11T22:52:55.278570Z",
     "shell.execute_reply.started": "2022-12-11T22:52:53.458231Z"
    }
   },
   "outputs": [],
   "source": [
    "# Importação das bibliotecas e divisão dos dados em dois conjuntos (treino e teste)\n",
    "from sklearn.tree import DecisionTreeRegressor  \n",
    "from sklearn.metrics import mean_absolute_error\n",
    "from sklearn.model_selection import train_test_split\n",
    "\n",
    "treino_X, val_X, treino_y, val_y = train_test_split(X,y,random_state=2,train_size=0.8)"
   ]
  },
  {
   "cell_type": "code",
   "execution_count": 24,
   "metadata": {
    "execution": {
     "iopub.execute_input": "2022-12-11T23:09:13.399299Z",
     "iopub.status.busy": "2022-12-11T23:09:13.398770Z",
     "iopub.status.idle": "2022-12-11T23:09:40.456479Z",
     "shell.execute_reply": "2022-12-11T23:09:40.453186Z",
     "shell.execute_reply.started": "2022-12-11T23:09:13.399264Z"
    }
   },
   "outputs": [],
   "source": [
    "# Cria o modelo, treina e faz a predição da nota final dos alunos no conjunto de teste\n",
    "# Os testes dos parâmetros a *max_depth* e *min_samples_leaf* a serem utilizados é apresentado no arquivo\n",
    "#    '1.Analise_tratamento_testes_dos_dados.ipynb'\n",
    "\n",
    "modelotree = DecisionTreeRegressor(random_state=1,max_depth=50,min_samples_leaf=10)\n",
    "modelotree.fit(treino_X, treino_y)\n",
    "predicaotree2 = modelotree.predict(val_X)"
   ]
  },
  {
   "cell_type": "code",
   "execution_count": 22,
   "metadata": {
    "execution": {
     "iopub.execute_input": "2022-12-11T22:59:32.908902Z",
     "iopub.status.busy": "2022-12-11T22:59:32.908440Z",
     "iopub.status.idle": "2022-12-11T22:59:33.391831Z",
     "shell.execute_reply": "2022-12-11T22:59:33.390694Z",
     "shell.execute_reply.started": "2022-12-11T22:59:32.908867Z"
    }
   },
   "outputs": [
    {
     "data": {
      "text/html": [
       "<div>\n",
       "<style scoped>\n",
       "    .dataframe tbody tr th:only-of-type {\n",
       "        vertical-align: middle;\n",
       "    }\n",
       "\n",
       "    .dataframe tbody tr th {\n",
       "        vertical-align: top;\n",
       "    }\n",
       "\n",
       "    .dataframe thead th {\n",
       "        text-align: right;\n",
       "    }\n",
       "</style>\n",
       "<table border=\"1\" class=\"dataframe\">\n",
       "  <thead>\n",
       "    <tr style=\"text-align: right;\">\n",
       "      <th></th>\n",
       "      <th>NOTA_FINAL</th>\n",
       "      <th>Nota predita</th>\n",
       "      <th>Erro</th>\n",
       "    </tr>\n",
       "  </thead>\n",
       "  <tbody>\n",
       "    <tr>\n",
       "      <th>1589625</th>\n",
       "      <td>591.70</td>\n",
       "      <td>549.780000</td>\n",
       "      <td>41.920000</td>\n",
       "    </tr>\n",
       "    <tr>\n",
       "      <th>2094672</th>\n",
       "      <td>492.72</td>\n",
       "      <td>579.118333</td>\n",
       "      <td>-86.398333</td>\n",
       "    </tr>\n",
       "    <tr>\n",
       "      <th>98991</th>\n",
       "      <td>633.10</td>\n",
       "      <td>616.700000</td>\n",
       "      <td>16.400000</td>\n",
       "    </tr>\n",
       "    <tr>\n",
       "      <th>937641</th>\n",
       "      <td>541.80</td>\n",
       "      <td>508.491111</td>\n",
       "      <td>33.308889</td>\n",
       "    </tr>\n",
       "    <tr>\n",
       "      <th>263807</th>\n",
       "      <td>461.74</td>\n",
       "      <td>464.552727</td>\n",
       "      <td>-2.812727</td>\n",
       "    </tr>\n",
       "    <tr>\n",
       "      <th>2094621</th>\n",
       "      <td>548.52</td>\n",
       "      <td>575.557143</td>\n",
       "      <td>-27.037143</td>\n",
       "    </tr>\n",
       "    <tr>\n",
       "      <th>1521906</th>\n",
       "      <td>571.80</td>\n",
       "      <td>631.470909</td>\n",
       "      <td>-59.670909</td>\n",
       "    </tr>\n",
       "    <tr>\n",
       "      <th>1903348</th>\n",
       "      <td>501.26</td>\n",
       "      <td>559.446667</td>\n",
       "      <td>-58.186667</td>\n",
       "    </tr>\n",
       "    <tr>\n",
       "      <th>1992981</th>\n",
       "      <td>463.74</td>\n",
       "      <td>451.556471</td>\n",
       "      <td>12.183529</td>\n",
       "    </tr>\n",
       "    <tr>\n",
       "      <th>575151</th>\n",
       "      <td>471.98</td>\n",
       "      <td>519.183158</td>\n",
       "      <td>-47.203158</td>\n",
       "    </tr>\n",
       "    <tr>\n",
       "      <th>1817657</th>\n",
       "      <td>409.80</td>\n",
       "      <td>545.196923</td>\n",
       "      <td>-135.396923</td>\n",
       "    </tr>\n",
       "    <tr>\n",
       "      <th>1465818</th>\n",
       "      <td>574.74</td>\n",
       "      <td>654.106000</td>\n",
       "      <td>-79.366000</td>\n",
       "    </tr>\n",
       "    <tr>\n",
       "      <th>1390367</th>\n",
       "      <td>613.70</td>\n",
       "      <td>567.306250</td>\n",
       "      <td>46.393750</td>\n",
       "    </tr>\n",
       "    <tr>\n",
       "      <th>701815</th>\n",
       "      <td>615.24</td>\n",
       "      <td>434.966250</td>\n",
       "      <td>180.273750</td>\n",
       "    </tr>\n",
       "    <tr>\n",
       "      <th>12712</th>\n",
       "      <td>523.52</td>\n",
       "      <td>486.741538</td>\n",
       "      <td>36.778462</td>\n",
       "    </tr>\n",
       "  </tbody>\n",
       "</table>\n",
       "</div>"
      ],
      "text/plain": [
       "         NOTA_FINAL  Nota predita        Erro\n",
       "1589625      591.70    549.780000   41.920000\n",
       "2094672      492.72    579.118333  -86.398333\n",
       "98991        633.10    616.700000   16.400000\n",
       "937641       541.80    508.491111   33.308889\n",
       "263807       461.74    464.552727   -2.812727\n",
       "2094621      548.52    575.557143  -27.037143\n",
       "1521906      571.80    631.470909  -59.670909\n",
       "1903348      501.26    559.446667  -58.186667\n",
       "1992981      463.74    451.556471   12.183529\n",
       "575151       471.98    519.183158  -47.203158\n",
       "1817657      409.80    545.196923 -135.396923\n",
       "1465818      574.74    654.106000  -79.366000\n",
       "1390367      613.70    567.306250   46.393750\n",
       "701815       615.24    434.966250  180.273750\n",
       "12712        523.52    486.741538   36.778462"
      ]
     },
     "execution_count": 22,
     "metadata": {},
     "output_type": "execute_result"
    }
   ],
   "source": [
    "#Comparando alguns valores preditos com a resposta esperada (a nota final que o aluno realmente tirou)\n",
    "dadostree = pd.DataFrame(val_y)\n",
    "dadostree['Nota predita'] = predicaotree2\n",
    "dadostree['Erro'] = dados3['NOTA_FINAL'] - dadostree['Nota predita']\n",
    "dadostree.sample(15)"
   ]
  },
  {
   "cell_type": "code",
   "execution_count": 23,
   "metadata": {
    "execution": {
     "iopub.execute_input": "2022-12-11T23:00:34.579392Z",
     "iopub.status.busy": "2022-12-11T23:00:34.578869Z",
     "iopub.status.idle": "2022-12-11T23:00:34.592684Z",
     "shell.execute_reply": "2022-12-11T23:00:34.591434Z",
     "shell.execute_reply.started": "2022-12-11T23:00:34.579337Z"
    }
   },
   "outputs": [
    {
     "data": {
      "text/plain": [
       "62.21512120588078"
      ]
     },
     "execution_count": 23,
     "metadata": {},
     "output_type": "execute_result"
    }
   ],
   "source": [
    "# Cálculo do erro médio na predição das notas no conjunto de treino (447.622 registros).\n",
    "mean_absolute_error(val_y,predicaotree2)"
   ]
  },
  {
   "cell_type": "markdown",
   "metadata": {},
   "source": [
    "##### Resposta (erro médio absoluto): 62.21512120588078  \n",
    "\n",
    "####   \n",
    "#### <b>Conclusão:</b> \n",
    "#### O modelo conseguiu prever a nota final do aluno com um <b>erro médio de aprox. 62,2 pontos</b> para mais ou para menos, sendo o espectro de notas possíveis entre 0 e 1000 pontos. "
   ]
  },
  {
   "cell_type": "markdown",
   "metadata": {},
   "source": [
    "### Verificação do modelo utilizando cross-validation"
   ]
  },
  {
   "cell_type": "code",
   "execution_count": 19,
   "metadata": {
    "execution": {
     "iopub.execute_input": "2022-12-11T16:18:29.958862Z",
     "iopub.status.busy": "2022-12-11T16:18:29.958540Z",
     "iopub.status.idle": "2022-12-11T16:20:05.325520Z",
     "shell.execute_reply": "2022-12-11T16:20:05.324703Z",
     "shell.execute_reply.started": "2022-12-11T16:18:29.958834Z"
    }
   },
   "outputs": [
    {
     "name": "stdout",
     "output_type": "stream",
     "text": [
      "mean cross validation score: -0.06056625712508743\n",
      "score without cv: 0.7803528706571083\n"
     ]
    }
   ],
   "source": [
    "from sklearn.model_selection import train_test_split\n",
    "from sklearn.model_selection import cross_val_score\n",
    "\n",
    "modelotree = DecisionTreeRegressor(random_state=1,max_depth=50,min_samples_leaf=3)\n",
    "\n",
    "#X_train, X_test, y_train, y_test = train_test_split(X, y,test_size=0.20, random_state=0)\n",
    "treino_X, val_X, treino_y, val_y = train_test_split(X,y,random_state=2,train_size=0.8)\n",
    "\n",
    "modelotree2 = DecisionTreeRegressor(random_state=0, max_depth=50,min_samples_leaf=3, criterion='absolute_error')\n",
    "tree_fit = modelotree.fit(treino_X, treino_y)\n",
    "\n",
    "tree_scores = cross_val_score(tree_fit, treino_X, treino_y, scoring='accuracy',cv = 5)\n",
    "print('Score médio na validação cruzada: {}'.format(np.mean(tree_scores)))"
   ]
  },
  {
   "cell_type": "markdown",
   "metadata": {},
   "source": [
    "Resposta: -0.06056625712508743"
   ]
  },
  {
   "cell_type": "markdown",
   "metadata": {},
   "source": [
    "#### <b>Avaliação:</b>  \n",
    "#### O score médio para 5 rodadas foi de aprox. -0.061, próximo de zero, indicando que não está havendo *overfitting* no modelo. O modelo, considerando o erro médio apresentado, é adequado à predição da nota final de novos alunos."
   ]
  },
  {
   "cell_type": "code",
   "execution_count": 25,
   "metadata": {
    "execution": {
     "iopub.execute_input": "2022-12-11T23:11:50.977107Z",
     "iopub.status.busy": "2022-12-11T23:11:50.976519Z",
     "iopub.status.idle": "2022-12-11T23:11:51.050733Z",
     "shell.execute_reply": "2022-12-11T23:11:51.049160Z",
     "shell.execute_reply.started": "2022-12-11T23:11:50.977061Z"
    }
   },
   "outputs": [
    {
     "ename": "NameError",
     "evalue": "name 'tree_scores' is not defined",
     "output_type": "error",
     "traceback": [
      "\u001b[0;31m---------------------------------------------------------------------------\u001b[0m",
      "\u001b[0;31mNameError\u001b[0m                                 Traceback (most recent call last)",
      "\u001b[0;32m/tmp/ipykernel_27/817363721.py\u001b[0m in \u001b[0;36m<module>\u001b[0;34m\u001b[0m\n\u001b[0;32m----> 1\u001b[0;31m \u001b[0mtree_scores\u001b[0m\u001b[0;34m\u001b[0m\u001b[0;34m\u001b[0m\u001b[0m\n\u001b[0m",
      "\u001b[0;31mNameError\u001b[0m: name 'tree_scores' is not defined"
     ]
    }
   ],
   "source": [
    "tree_scores"
   ]
  },
  {
   "cell_type": "markdown",
   "metadata": {},
   "source": [
    "Resposta:  \n",
    "array([-0.05347239, -0.06362943, -0.05941949, -0.06391427, -0.06239571])"
   ]
  },
  {
   "cell_type": "markdown",
   "metadata": {},
   "source": [
    "## Predição da nota final do aluno utilizando o algoritmo <b>K-Nearest Neighbors (KNN)</b>"
   ]
  },
  {
   "cell_type": "markdown",
   "metadata": {},
   "source": [
    "A importação das bibliotecas e a manipulação dos dados será feita novamente, possibilitando que este trecho de código seja executado independentemente (não é necesário executar os códigos para o Decision Tree antes)."
   ]
  },
  {
   "cell_type": "code",
   "execution_count": 26,
   "metadata": {
    "execution": {
     "iopub.execute_input": "2022-12-11T23:38:35.054096Z",
     "iopub.status.busy": "2022-12-11T23:38:35.053595Z",
     "iopub.status.idle": "2022-12-11T23:38:35.337749Z",
     "shell.execute_reply": "2022-12-11T23:38:35.336432Z",
     "shell.execute_reply.started": "2022-12-11T23:38:35.054060Z"
    }
   },
   "outputs": [
    {
     "data": {
      "text/plain": [
       "KNeighborsRegressor(n_neighbors=3)"
      ]
     },
     "execution_count": 26,
     "metadata": {},
     "output_type": "execute_result"
    }
   ],
   "source": [
    "# Importação das bibliotecas e divisão dos dados em dois conjuntos (treino e teste)\n",
    "from sklearn.neighbors import KNeighborsRegressor\n",
    "from sklearn.metrics import mean_absolute_error\n",
    "from sklearn.model_selection import train_test_split\n",
    "\n",
    "# O argumento passado ao KNeighborsRegressor indica o número de vizinhos a serem considerados \n",
    "modelo = KNeighborsRegressor(3)\n",
    "\n",
    "# Treinar o modelo para estimar y (nota final do aluno) a partir das features em X (suas respostas ao questionário)\n",
    "modelo.fit(X,y)\n",
    "\n",
    "# Teste para os 1000 primeiros registros\n",
    "#predicao10000 = modelo.predict(X.head(10000))\n",
    "#mean_absolute_error(y[0:10000],predicao10000)\n",
    "# Resposta: 47.250752"
   ]
  },
  {
   "cell_type": "code",
   "execution_count": 27,
   "metadata": {
    "execution": {
     "iopub.execute_input": "2022-12-11T23:39:22.530686Z",
     "iopub.status.busy": "2022-12-11T23:39:22.530076Z",
     "iopub.status.idle": "2022-12-11T23:39:24.721472Z",
     "shell.execute_reply": "2022-12-11T23:39:24.720267Z",
     "shell.execute_reply.started": "2022-12-11T23:39:22.530643Z"
    }
   },
   "outputs": [
    {
     "data": {
      "text/plain": [
       "(1790484, 33)"
      ]
     },
     "execution_count": 27,
     "metadata": {},
     "output_type": "execute_result"
    }
   ],
   "source": [
    "# Divisão dos dados em dois conjuntos (treino e teste)\n",
    "treino_X, val_X, treino_y, val_y = train_test_split(X,y,random_state=1,train_size=0.8)\n",
    "treino_X.shape"
   ]
  },
  {
   "cell_type": "code",
   "execution_count": 28,
   "metadata": {
    "execution": {
     "iopub.execute_input": "2022-12-11T17:20:24.358573Z",
     "iopub.status.busy": "2022-12-11T17:20:24.358260Z",
     "iopub.status.idle": "2022-12-11T19:15:36.028725Z",
     "shell.execute_reply": "2022-12-11T19:15:36.027680Z",
     "shell.execute_reply.started": "2022-12-11T17:20:24.358549Z"
    }
   },
   "outputs": [
    {
     "data": {
      "text/plain": [
       "65.15513279806027"
      ]
     },
     "execution_count": 28,
     "metadata": {},
     "output_type": "execute_result"
    }
   ],
   "source": [
    "# Cria o modelo, treina e faz a predição da nota final dos alunos no conjunto de teste\n",
    "# Nos testes realizados, K=3 vizinhos apresentou os melhores resultados,\n",
    "#    sendo observado o aumento do erro médio absoluto para valores maiores (K=5,7)\n",
    "modelo = modelo = KNeighborsRegressor(3)\n",
    "modelo.fit(treino_X, treino_y)\n",
    "predicao = modelo.predict(val_X)\n",
    "\n",
    "mean_absolute_error(val_y,predicao)"
   ]
  },
  {
   "cell_type": "code",
   "execution_count": 28,
   "metadata": {
    "execution": {
     "iopub.execute_input": "2022-12-11T23:50:02.094553Z",
     "iopub.status.busy": "2022-12-11T23:50:02.094042Z",
     "iopub.status.idle": "2022-12-11T23:50:02.119082Z",
     "shell.execute_reply": "2022-12-11T23:50:02.117412Z",
     "shell.execute_reply.started": "2022-12-11T23:50:02.094518Z"
    }
   },
   "outputs": [
    {
     "ename": "NameError",
     "evalue": "name 'predicao' is not defined",
     "output_type": "error",
     "traceback": [
      "\u001b[0;31m---------------------------------------------------------------------------\u001b[0m",
      "\u001b[0;31mNameError\u001b[0m                                 Traceback (most recent call last)",
      "\u001b[0;32m/tmp/ipykernel_27/284538962.py\u001b[0m in \u001b[0;36m<module>\u001b[0;34m\u001b[0m\n\u001b[1;32m      1\u001b[0m \u001b[0;31m#Comparando alguns valores preditos com a resposta esperada (a nota final que o aluno realmente tirou)\u001b[0m\u001b[0;34m\u001b[0m\u001b[0;34m\u001b[0m\u001b[0;34m\u001b[0m\u001b[0m\n\u001b[1;32m      2\u001b[0m \u001b[0mdadosK\u001b[0m \u001b[0;34m=\u001b[0m \u001b[0mpd\u001b[0m\u001b[0;34m.\u001b[0m\u001b[0mDataFrame\u001b[0m\u001b[0;34m(\u001b[0m\u001b[0mval_y\u001b[0m\u001b[0;34m)\u001b[0m\u001b[0;34m\u001b[0m\u001b[0;34m\u001b[0m\u001b[0m\n\u001b[0;32m----> 3\u001b[0;31m \u001b[0mdadosK\u001b[0m\u001b[0;34m[\u001b[0m\u001b[0;34m'Nota predita'\u001b[0m\u001b[0;34m]\u001b[0m \u001b[0;34m=\u001b[0m \u001b[0mpredicao\u001b[0m\u001b[0;34m\u001b[0m\u001b[0;34m\u001b[0m\u001b[0m\n\u001b[0m\u001b[1;32m      4\u001b[0m \u001b[0mdadosK\u001b[0m\u001b[0;34m[\u001b[0m\u001b[0;34m'Erro'\u001b[0m\u001b[0;34m]\u001b[0m \u001b[0;34m=\u001b[0m \u001b[0mdados3\u001b[0m\u001b[0;34m[\u001b[0m\u001b[0;34m'NOTA_FINAL'\u001b[0m\u001b[0;34m]\u001b[0m \u001b[0;34m-\u001b[0m \u001b[0mdadosK\u001b[0m\u001b[0;34m[\u001b[0m\u001b[0;34m'Nota predita'\u001b[0m\u001b[0;34m]\u001b[0m\u001b[0;34m\u001b[0m\u001b[0;34m\u001b[0m\u001b[0m\n\u001b[1;32m      5\u001b[0m \u001b[0mdadosK\u001b[0m\u001b[0;34m.\u001b[0m\u001b[0msample\u001b[0m\u001b[0;34m(\u001b[0m\u001b[0;36m15\u001b[0m\u001b[0;34m)\u001b[0m\u001b[0;34m\u001b[0m\u001b[0;34m\u001b[0m\u001b[0m\n",
      "\u001b[0;31mNameError\u001b[0m: name 'predicao' is not defined"
     ]
    }
   ],
   "source": [
    "#Comparando alguns valores preditos com a resposta esperada (a nota final que o aluno realmente tirou)\n",
    "dadosK = pd.DataFrame(val_y)\n",
    "dadosK['Nota predita'] = predicao\n",
    "dadosK['Erro'] = dados3['NOTA_FINAL'] - dadosK['Nota predita']\n",
    "dadosK.sample(15)"
   ]
  },
  {
   "cell_type": "markdown",
   "metadata": {},
   "source": [
    "##### Resposta (erro médio absoluto): 65.15513279806027\n",
    "\n",
    "####   \n",
    "#### <b>Conclusão:</b> \n",
    "#### O modelo conseguiu prever a nota final do aluno com um <b>erro médio de aprox. 65,2 pontos</b> para mais ou para menos, sendo o espectro de notas possíveis entre 0 e 1000 pontos. \n",
    "\n",
    "#### Não é mostrada a validação cruzada para o KNN, pois seu processamento é significativamente mais lento.\n",
    "\n",
    "#### Embora apresente um resultado equivalente ao obtido acima com árvores de decisão, a execução utilizando o KNN é significativamente mais lenta, por isso <b>o primeiro método (Decision Tree) foi considerado mais adequado à solução do problema proposto</b>. "
   ]
  },
  {
   "cell_type": "markdown",
   "metadata": {},
   "source": [
    "## Predição da nota final do aluno utilizando o algoritmo <b>Support-Vector Machine (SVM)</b>"
   ]
  },
  {
   "cell_type": "markdown",
   "metadata": {},
   "source": [
    "A importação das bibliotecas e a manipulação dos dados será feita novamente, possibilitando que este trecho de código seja executado independentemente (não é necesário executar os códigos para o Decision Tree antes)."
   ]
  },
  {
   "cell_type": "code",
   "execution_count": 30,
   "metadata": {
    "execution": {
     "iopub.execute_input": "2022-12-11T23:55:51.927980Z",
     "iopub.status.busy": "2022-12-11T23:55:51.927513Z",
     "iopub.status.idle": "2022-12-11T23:55:53.471002Z",
     "shell.execute_reply": "2022-12-11T23:55:53.469895Z",
     "shell.execute_reply.started": "2022-12-11T23:55:51.927941Z"
    }
   },
   "outputs": [
    {
     "data": {
      "text/plain": [
       "(1790484, 33)"
      ]
     },
     "execution_count": 30,
     "metadata": {},
     "output_type": "execute_result"
    }
   ],
   "source": [
    "# Importação das bibliotecas e divisão dos dados em dois conjuntos (treino e teste)\n",
    "from sklearn.model_selection import train_test_split\n",
    "from sklearn.svm import SVR\n",
    "from sklearn.metrics import mean_absolute_error\n",
    "from sklearn.preprocessing import StandardScaler\n",
    "#from sklearn.grid_search import GridSearchCV\n",
    "\n",
    "treino_X, val_X, treino_y, val_y = train_test_split(X,y,random_state=1,train_size=0.8)\n",
    "treino_X.shape"
   ]
  },
  {
   "cell_type": "code",
   "execution_count": null,
   "metadata": {
    "execution": {
     "iopub.execute_input": "2022-12-11T20:52:05.761433Z",
     "iopub.status.busy": "2022-12-11T20:52:05.761041Z"
    }
   },
   "outputs": [],
   "source": [
    "modeloSVM = StandardScaler()\n",
    "\n",
    "SVM_polinomial = SVR(kernel = 'poly', degree = 3, gamma = 'scale', C = 1.0, coef0 = 2)\n",
    "SVM_polinomial.fit(treino_X, treino_y)\n",
    "\n",
    "#print(SVM_polinomial)\n",
    "predicaoSVM = SVM_polinomial.predict(val_X)\n",
    "mean_absolute_error(val_y,predicaoSVM)"
   ]
  },
  {
   "cell_type": "code",
   "execution_count": null,
   "metadata": {
    "execution": {
     "iopub.execute_input": "2022-12-11T23:56:09.348452Z",
     "iopub.status.busy": "2022-12-11T23:56:09.347976Z"
    }
   },
   "outputs": [],
   "source": [
    "modeloSVM = StandardScaler()\n",
    "#treino_X = modeloSVM.fit_transform(treino_X)\n",
    "#val_X = modeloSVM.transform(val_X)\n",
    "\n",
    "SVM_polinomial = SVR(kernel = 'poly', degree = 3, gamma = 'scale', C = 1.0, coef0 = 2)\n",
    "SVM_polinomial.fit(X, y)\n",
    "\n",
    "print(SVM_polinomial)\n",
    "predicaoSVM100 = SVM_polinomial.predict(X.head(100))\n",
    "\n",
    "mean_absolute_error(y[0:100],predicaoSVM100)"
   ]
  },
  {
   "cell_type": "code",
   "execution_count": null,
   "metadata": {},
   "outputs": [],
   "source": [
    "dados3"
   ]
  },
  {
   "cell_type": "code",
   "execution_count": null,
   "metadata": {},
   "outputs": [],
   "source": []
  }
 ],
 "metadata": {
  "kernelspec": {
   "display_name": "Python 3 (ipykernel)",
   "language": "python",
   "name": "python3"
  },
  "language_info": {
   "codemirror_mode": {
    "name": "ipython",
    "version": 3
   },
   "file_extension": ".py",
   "mimetype": "text/x-python",
   "name": "python",
   "nbconvert_exporter": "python",
   "pygments_lexer": "ipython3",
   "version": "3.9.7"
  }
 },
 "nbformat": 4,
 "nbformat_minor": 4
}
