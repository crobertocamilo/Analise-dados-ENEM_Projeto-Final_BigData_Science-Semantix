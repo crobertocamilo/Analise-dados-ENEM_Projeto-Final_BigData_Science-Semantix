{
 "cells": [
  {
   "cell_type": "markdown",
   "id": "23634b86",
   "metadata": {},
   "source": [
    "# Treinamento Big Data Science\n",
    "\n",
    "## Projeto Final - Análise base de dados ENEM"
   ]
  },
  {
   "cell_type": "markdown",
   "id": "a8480447",
   "metadata": {},
   "source": [
    "# Em desenvolvimento - Prazo final envio 12 Dez. 2022"
   ]
  },
  {
   "cell_type": "code",
   "execution_count": null,
   "id": "e5e593eb",
   "metadata": {},
   "outputs": [],
   "source": []
  }
 ],
 "metadata": {
  "kernelspec": {
   "display_name": "Python 3 (ipykernel)",
   "language": "python",
   "name": "python3"
  },
  "language_info": {
   "codemirror_mode": {
    "name": "ipython",
    "version": 3
   },
   "file_extension": ".py",
   "mimetype": "text/x-python",
   "name": "python",
   "nbconvert_exporter": "python",
   "pygments_lexer": "ipython3",
   "version": "3.9.7"
  }
 },
 "nbformat": 4,
 "nbformat_minor": 5
}
